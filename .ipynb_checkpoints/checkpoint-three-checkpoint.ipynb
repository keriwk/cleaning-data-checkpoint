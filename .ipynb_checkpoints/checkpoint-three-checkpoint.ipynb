{
 "cells": [
  {
   "cell_type": "markdown",
   "metadata": {
    "azdata_cell_guid": "26037d32-2047-4157-81ef-595916bd66a0"
   },
   "source": [
    "# Checkpoint Three: Cleaning Data\n",
    "\n",
    "Now you are ready to clean your data. Before starting coding, provide the link to your dataset below.\n",
    "\n",
    "My dataset:https://www.kaggle.com/datasets/arashnic/fitbit\n",
    "\n",
    "Import the necessary libraries and create your dataframe(s)."
   ]
  },
  {
   "cell_type": "code",
   "execution_count": 17,
   "metadata": {
    "azdata_cell_guid": "e8adef8e-d0f2-4640-a179-5997f11e82ca"
   },
   "outputs": [
    {
     "data": {
      "text/html": [
       "<div>\n",
       "<style scoped>\n",
       "    .dataframe tbody tr th:only-of-type {\n",
       "        vertical-align: middle;\n",
       "    }\n",
       "\n",
       "    .dataframe tbody tr th {\n",
       "        vertical-align: top;\n",
       "    }\n",
       "\n",
       "    .dataframe thead th {\n",
       "        text-align: right;\n",
       "    }\n",
       "</style>\n",
       "<table border=\"1\" class=\"dataframe\">\n",
       "  <thead>\n",
       "    <tr style=\"text-align: right;\">\n",
       "      <th></th>\n",
       "      <th>Id</th>\n",
       "      <th>ActivityDate</th>\n",
       "      <th>TotalSteps</th>\n",
       "      <th>TotalDistance</th>\n",
       "      <th>TrackerDistance</th>\n",
       "      <th>LoggedActivitiesDistance</th>\n",
       "      <th>VeryActiveDistance</th>\n",
       "      <th>ModeratelyActiveDistance</th>\n",
       "      <th>LightActiveDistance</th>\n",
       "      <th>SedentaryActiveDistance</th>\n",
       "      <th>VeryActiveMinutes</th>\n",
       "      <th>FairlyActiveMinutes</th>\n",
       "      <th>LightlyActiveMinutes</th>\n",
       "      <th>SedentaryMinutes</th>\n",
       "      <th>Calories</th>\n",
       "    </tr>\n",
       "  </thead>\n",
       "  <tbody>\n",
       "    <tr>\n",
       "      <th>0</th>\n",
       "      <td>1503960366</td>\n",
       "      <td>4/12/2016</td>\n",
       "      <td>13162</td>\n",
       "      <td>8.50</td>\n",
       "      <td>8.50</td>\n",
       "      <td>0.0</td>\n",
       "      <td>1.88</td>\n",
       "      <td>0.55</td>\n",
       "      <td>6.06</td>\n",
       "      <td>0.0</td>\n",
       "      <td>25</td>\n",
       "      <td>13</td>\n",
       "      <td>328</td>\n",
       "      <td>728</td>\n",
       "      <td>1985</td>\n",
       "    </tr>\n",
       "    <tr>\n",
       "      <th>1</th>\n",
       "      <td>1503960366</td>\n",
       "      <td>4/13/2016</td>\n",
       "      <td>10735</td>\n",
       "      <td>6.97</td>\n",
       "      <td>6.97</td>\n",
       "      <td>0.0</td>\n",
       "      <td>1.57</td>\n",
       "      <td>0.69</td>\n",
       "      <td>4.71</td>\n",
       "      <td>0.0</td>\n",
       "      <td>21</td>\n",
       "      <td>19</td>\n",
       "      <td>217</td>\n",
       "      <td>776</td>\n",
       "      <td>1797</td>\n",
       "    </tr>\n",
       "    <tr>\n",
       "      <th>2</th>\n",
       "      <td>1503960366</td>\n",
       "      <td>4/14/2016</td>\n",
       "      <td>10460</td>\n",
       "      <td>6.74</td>\n",
       "      <td>6.74</td>\n",
       "      <td>0.0</td>\n",
       "      <td>2.44</td>\n",
       "      <td>0.40</td>\n",
       "      <td>3.91</td>\n",
       "      <td>0.0</td>\n",
       "      <td>30</td>\n",
       "      <td>11</td>\n",
       "      <td>181</td>\n",
       "      <td>1218</td>\n",
       "      <td>1776</td>\n",
       "    </tr>\n",
       "    <tr>\n",
       "      <th>3</th>\n",
       "      <td>1503960366</td>\n",
       "      <td>4/15/2016</td>\n",
       "      <td>9762</td>\n",
       "      <td>6.28</td>\n",
       "      <td>6.28</td>\n",
       "      <td>0.0</td>\n",
       "      <td>2.14</td>\n",
       "      <td>1.26</td>\n",
       "      <td>2.83</td>\n",
       "      <td>0.0</td>\n",
       "      <td>29</td>\n",
       "      <td>34</td>\n",
       "      <td>209</td>\n",
       "      <td>726</td>\n",
       "      <td>1745</td>\n",
       "    </tr>\n",
       "    <tr>\n",
       "      <th>4</th>\n",
       "      <td>1503960366</td>\n",
       "      <td>4/16/2016</td>\n",
       "      <td>12669</td>\n",
       "      <td>8.16</td>\n",
       "      <td>8.16</td>\n",
       "      <td>0.0</td>\n",
       "      <td>2.71</td>\n",
       "      <td>0.41</td>\n",
       "      <td>5.04</td>\n",
       "      <td>0.0</td>\n",
       "      <td>36</td>\n",
       "      <td>10</td>\n",
       "      <td>221</td>\n",
       "      <td>773</td>\n",
       "      <td>1863</td>\n",
       "    </tr>\n",
       "    <tr>\n",
       "      <th>5</th>\n",
       "      <td>1503960366</td>\n",
       "      <td>4/17/2016</td>\n",
       "      <td>9705</td>\n",
       "      <td>6.48</td>\n",
       "      <td>6.48</td>\n",
       "      <td>0.0</td>\n",
       "      <td>3.19</td>\n",
       "      <td>0.78</td>\n",
       "      <td>2.51</td>\n",
       "      <td>0.0</td>\n",
       "      <td>38</td>\n",
       "      <td>20</td>\n",
       "      <td>164</td>\n",
       "      <td>539</td>\n",
       "      <td>1728</td>\n",
       "    </tr>\n",
       "    <tr>\n",
       "      <th>6</th>\n",
       "      <td>1503960366</td>\n",
       "      <td>4/18/2016</td>\n",
       "      <td>13019</td>\n",
       "      <td>8.59</td>\n",
       "      <td>8.59</td>\n",
       "      <td>0.0</td>\n",
       "      <td>3.25</td>\n",
       "      <td>0.64</td>\n",
       "      <td>4.71</td>\n",
       "      <td>0.0</td>\n",
       "      <td>42</td>\n",
       "      <td>16</td>\n",
       "      <td>233</td>\n",
       "      <td>1149</td>\n",
       "      <td>1921</td>\n",
       "    </tr>\n",
       "    <tr>\n",
       "      <th>7</th>\n",
       "      <td>1503960366</td>\n",
       "      <td>4/19/2016</td>\n",
       "      <td>15506</td>\n",
       "      <td>9.88</td>\n",
       "      <td>9.88</td>\n",
       "      <td>0.0</td>\n",
       "      <td>3.53</td>\n",
       "      <td>1.32</td>\n",
       "      <td>5.03</td>\n",
       "      <td>0.0</td>\n",
       "      <td>50</td>\n",
       "      <td>31</td>\n",
       "      <td>264</td>\n",
       "      <td>775</td>\n",
       "      <td>2035</td>\n",
       "    </tr>\n",
       "    <tr>\n",
       "      <th>8</th>\n",
       "      <td>1503960366</td>\n",
       "      <td>4/20/2016</td>\n",
       "      <td>10544</td>\n",
       "      <td>6.68</td>\n",
       "      <td>6.68</td>\n",
       "      <td>0.0</td>\n",
       "      <td>1.96</td>\n",
       "      <td>0.48</td>\n",
       "      <td>4.24</td>\n",
       "      <td>0.0</td>\n",
       "      <td>28</td>\n",
       "      <td>12</td>\n",
       "      <td>205</td>\n",
       "      <td>818</td>\n",
       "      <td>1786</td>\n",
       "    </tr>\n",
       "    <tr>\n",
       "      <th>9</th>\n",
       "      <td>1503960366</td>\n",
       "      <td>4/21/2016</td>\n",
       "      <td>9819</td>\n",
       "      <td>6.34</td>\n",
       "      <td>6.34</td>\n",
       "      <td>0.0</td>\n",
       "      <td>1.34</td>\n",
       "      <td>0.35</td>\n",
       "      <td>4.65</td>\n",
       "      <td>0.0</td>\n",
       "      <td>19</td>\n",
       "      <td>8</td>\n",
       "      <td>211</td>\n",
       "      <td>838</td>\n",
       "      <td>1775</td>\n",
       "    </tr>\n",
       "    <tr>\n",
       "      <th>10</th>\n",
       "      <td>1503960366</td>\n",
       "      <td>4/22/2016</td>\n",
       "      <td>12764</td>\n",
       "      <td>8.13</td>\n",
       "      <td>8.13</td>\n",
       "      <td>0.0</td>\n",
       "      <td>4.76</td>\n",
       "      <td>1.12</td>\n",
       "      <td>2.24</td>\n",
       "      <td>0.0</td>\n",
       "      <td>66</td>\n",
       "      <td>27</td>\n",
       "      <td>130</td>\n",
       "      <td>1217</td>\n",
       "      <td>1827</td>\n",
       "    </tr>\n",
       "    <tr>\n",
       "      <th>11</th>\n",
       "      <td>1503960366</td>\n",
       "      <td>4/23/2016</td>\n",
       "      <td>14371</td>\n",
       "      <td>9.04</td>\n",
       "      <td>9.04</td>\n",
       "      <td>0.0</td>\n",
       "      <td>2.81</td>\n",
       "      <td>0.87</td>\n",
       "      <td>5.36</td>\n",
       "      <td>0.0</td>\n",
       "      <td>41</td>\n",
       "      <td>21</td>\n",
       "      <td>262</td>\n",
       "      <td>732</td>\n",
       "      <td>1949</td>\n",
       "    </tr>\n",
       "    <tr>\n",
       "      <th>12</th>\n",
       "      <td>1503960366</td>\n",
       "      <td>4/24/2016</td>\n",
       "      <td>10039</td>\n",
       "      <td>6.41</td>\n",
       "      <td>6.41</td>\n",
       "      <td>0.0</td>\n",
       "      <td>2.92</td>\n",
       "      <td>0.21</td>\n",
       "      <td>3.28</td>\n",
       "      <td>0.0</td>\n",
       "      <td>39</td>\n",
       "      <td>5</td>\n",
       "      <td>238</td>\n",
       "      <td>709</td>\n",
       "      <td>1788</td>\n",
       "    </tr>\n",
       "    <tr>\n",
       "      <th>13</th>\n",
       "      <td>1503960366</td>\n",
       "      <td>4/25/2016</td>\n",
       "      <td>15355</td>\n",
       "      <td>9.80</td>\n",
       "      <td>9.80</td>\n",
       "      <td>0.0</td>\n",
       "      <td>5.29</td>\n",
       "      <td>0.57</td>\n",
       "      <td>3.94</td>\n",
       "      <td>0.0</td>\n",
       "      <td>73</td>\n",
       "      <td>14</td>\n",
       "      <td>216</td>\n",
       "      <td>814</td>\n",
       "      <td>2013</td>\n",
       "    </tr>\n",
       "    <tr>\n",
       "      <th>14</th>\n",
       "      <td>1503960366</td>\n",
       "      <td>4/26/2016</td>\n",
       "      <td>13755</td>\n",
       "      <td>8.79</td>\n",
       "      <td>8.79</td>\n",
       "      <td>0.0</td>\n",
       "      <td>2.33</td>\n",
       "      <td>0.92</td>\n",
       "      <td>5.54</td>\n",
       "      <td>0.0</td>\n",
       "      <td>31</td>\n",
       "      <td>23</td>\n",
       "      <td>279</td>\n",
       "      <td>833</td>\n",
       "      <td>1970</td>\n",
       "    </tr>\n",
       "    <tr>\n",
       "      <th>15</th>\n",
       "      <td>1503960366</td>\n",
       "      <td>4/27/2016</td>\n",
       "      <td>18134</td>\n",
       "      <td>12.21</td>\n",
       "      <td>12.21</td>\n",
       "      <td>0.0</td>\n",
       "      <td>6.40</td>\n",
       "      <td>0.41</td>\n",
       "      <td>5.41</td>\n",
       "      <td>0.0</td>\n",
       "      <td>78</td>\n",
       "      <td>11</td>\n",
       "      <td>243</td>\n",
       "      <td>1108</td>\n",
       "      <td>2159</td>\n",
       "    </tr>\n",
       "    <tr>\n",
       "      <th>16</th>\n",
       "      <td>1503960366</td>\n",
       "      <td>4/28/2016</td>\n",
       "      <td>13154</td>\n",
       "      <td>8.53</td>\n",
       "      <td>8.53</td>\n",
       "      <td>0.0</td>\n",
       "      <td>3.54</td>\n",
       "      <td>1.16</td>\n",
       "      <td>3.79</td>\n",
       "      <td>0.0</td>\n",
       "      <td>48</td>\n",
       "      <td>28</td>\n",
       "      <td>189</td>\n",
       "      <td>782</td>\n",
       "      <td>1898</td>\n",
       "    </tr>\n",
       "    <tr>\n",
       "      <th>17</th>\n",
       "      <td>1503960366</td>\n",
       "      <td>4/29/2016</td>\n",
       "      <td>11181</td>\n",
       "      <td>7.15</td>\n",
       "      <td>7.15</td>\n",
       "      <td>0.0</td>\n",
       "      <td>1.06</td>\n",
       "      <td>0.50</td>\n",
       "      <td>5.58</td>\n",
       "      <td>0.0</td>\n",
       "      <td>16</td>\n",
       "      <td>12</td>\n",
       "      <td>243</td>\n",
       "      <td>815</td>\n",
       "      <td>1837</td>\n",
       "    </tr>\n",
       "    <tr>\n",
       "      <th>18</th>\n",
       "      <td>1503960366</td>\n",
       "      <td>4/30/2016</td>\n",
       "      <td>14673</td>\n",
       "      <td>9.25</td>\n",
       "      <td>9.25</td>\n",
       "      <td>0.0</td>\n",
       "      <td>3.56</td>\n",
       "      <td>1.42</td>\n",
       "      <td>4.27</td>\n",
       "      <td>0.0</td>\n",
       "      <td>52</td>\n",
       "      <td>34</td>\n",
       "      <td>217</td>\n",
       "      <td>712</td>\n",
       "      <td>1947</td>\n",
       "    </tr>\n",
       "    <tr>\n",
       "      <th>19</th>\n",
       "      <td>1503960366</td>\n",
       "      <td>5/1/2016</td>\n",
       "      <td>10602</td>\n",
       "      <td>6.81</td>\n",
       "      <td>6.81</td>\n",
       "      <td>0.0</td>\n",
       "      <td>2.29</td>\n",
       "      <td>1.60</td>\n",
       "      <td>2.92</td>\n",
       "      <td>0.0</td>\n",
       "      <td>33</td>\n",
       "      <td>35</td>\n",
       "      <td>246</td>\n",
       "      <td>730</td>\n",
       "      <td>1820</td>\n",
       "    </tr>\n",
       "  </tbody>\n",
       "</table>\n",
       "</div>"
      ],
      "text/plain": [
       "            Id ActivityDate  TotalSteps  TotalDistance  TrackerDistance  \\\n",
       "0   1503960366    4/12/2016       13162           8.50             8.50   \n",
       "1   1503960366    4/13/2016       10735           6.97             6.97   \n",
       "2   1503960366    4/14/2016       10460           6.74             6.74   \n",
       "3   1503960366    4/15/2016        9762           6.28             6.28   \n",
       "4   1503960366    4/16/2016       12669           8.16             8.16   \n",
       "5   1503960366    4/17/2016        9705           6.48             6.48   \n",
       "6   1503960366    4/18/2016       13019           8.59             8.59   \n",
       "7   1503960366    4/19/2016       15506           9.88             9.88   \n",
       "8   1503960366    4/20/2016       10544           6.68             6.68   \n",
       "9   1503960366    4/21/2016        9819           6.34             6.34   \n",
       "10  1503960366    4/22/2016       12764           8.13             8.13   \n",
       "11  1503960366    4/23/2016       14371           9.04             9.04   \n",
       "12  1503960366    4/24/2016       10039           6.41             6.41   \n",
       "13  1503960366    4/25/2016       15355           9.80             9.80   \n",
       "14  1503960366    4/26/2016       13755           8.79             8.79   \n",
       "15  1503960366    4/27/2016       18134          12.21            12.21   \n",
       "16  1503960366    4/28/2016       13154           8.53             8.53   \n",
       "17  1503960366    4/29/2016       11181           7.15             7.15   \n",
       "18  1503960366    4/30/2016       14673           9.25             9.25   \n",
       "19  1503960366     5/1/2016       10602           6.81             6.81   \n",
       "\n",
       "    LoggedActivitiesDistance  VeryActiveDistance  ModeratelyActiveDistance  \\\n",
       "0                        0.0                1.88                      0.55   \n",
       "1                        0.0                1.57                      0.69   \n",
       "2                        0.0                2.44                      0.40   \n",
       "3                        0.0                2.14                      1.26   \n",
       "4                        0.0                2.71                      0.41   \n",
       "5                        0.0                3.19                      0.78   \n",
       "6                        0.0                3.25                      0.64   \n",
       "7                        0.0                3.53                      1.32   \n",
       "8                        0.0                1.96                      0.48   \n",
       "9                        0.0                1.34                      0.35   \n",
       "10                       0.0                4.76                      1.12   \n",
       "11                       0.0                2.81                      0.87   \n",
       "12                       0.0                2.92                      0.21   \n",
       "13                       0.0                5.29                      0.57   \n",
       "14                       0.0                2.33                      0.92   \n",
       "15                       0.0                6.40                      0.41   \n",
       "16                       0.0                3.54                      1.16   \n",
       "17                       0.0                1.06                      0.50   \n",
       "18                       0.0                3.56                      1.42   \n",
       "19                       0.0                2.29                      1.60   \n",
       "\n",
       "    LightActiveDistance  SedentaryActiveDistance  VeryActiveMinutes  \\\n",
       "0                  6.06                      0.0                 25   \n",
       "1                  4.71                      0.0                 21   \n",
       "2                  3.91                      0.0                 30   \n",
       "3                  2.83                      0.0                 29   \n",
       "4                  5.04                      0.0                 36   \n",
       "5                  2.51                      0.0                 38   \n",
       "6                  4.71                      0.0                 42   \n",
       "7                  5.03                      0.0                 50   \n",
       "8                  4.24                      0.0                 28   \n",
       "9                  4.65                      0.0                 19   \n",
       "10                 2.24                      0.0                 66   \n",
       "11                 5.36                      0.0                 41   \n",
       "12                 3.28                      0.0                 39   \n",
       "13                 3.94                      0.0                 73   \n",
       "14                 5.54                      0.0                 31   \n",
       "15                 5.41                      0.0                 78   \n",
       "16                 3.79                      0.0                 48   \n",
       "17                 5.58                      0.0                 16   \n",
       "18                 4.27                      0.0                 52   \n",
       "19                 2.92                      0.0                 33   \n",
       "\n",
       "    FairlyActiveMinutes  LightlyActiveMinutes  SedentaryMinutes  Calories  \n",
       "0                    13                   328               728      1985  \n",
       "1                    19                   217               776      1797  \n",
       "2                    11                   181              1218      1776  \n",
       "3                    34                   209               726      1745  \n",
       "4                    10                   221               773      1863  \n",
       "5                    20                   164               539      1728  \n",
       "6                    16                   233              1149      1921  \n",
       "7                    31                   264               775      2035  \n",
       "8                    12                   205               818      1786  \n",
       "9                     8                   211               838      1775  \n",
       "10                   27                   130              1217      1827  \n",
       "11                   21                   262               732      1949  \n",
       "12                    5                   238               709      1788  \n",
       "13                   14                   216               814      2013  \n",
       "14                   23                   279               833      1970  \n",
       "15                   11                   243              1108      2159  \n",
       "16                   28                   189               782      1898  \n",
       "17                   12                   243               815      1837  \n",
       "18                   34                   217               712      1947  \n",
       "19                   35                   246               730      1820  "
      ]
     },
     "execution_count": 17,
     "metadata": {},
     "output_type": "execute_result"
    }
   ],
   "source": [
    "#import all librarys\n",
    "import pandas as pd\n",
    "import numpy as np\n",
    "import seaborn as sb\n",
    "import matplotlib.pyplot as plt\n",
    "from matplotlib import style\n",
    "\n",
    "#create df from dailyActivity.csv and print top 5 entries\n",
    "df_activity = pd.read_csv('dailyActivity_merged.csv')\n",
    "df_activity.head(20)"
   ]
  },
  {
   "cell_type": "code",
   "execution_count": 2,
   "metadata": {},
   "outputs": [
    {
     "data": {
      "text/html": [
       "<div>\n",
       "<style scoped>\n",
       "    .dataframe tbody tr th:only-of-type {\n",
       "        vertical-align: middle;\n",
       "    }\n",
       "\n",
       "    .dataframe tbody tr th {\n",
       "        vertical-align: top;\n",
       "    }\n",
       "\n",
       "    .dataframe thead th {\n",
       "        text-align: right;\n",
       "    }\n",
       "</style>\n",
       "<table border=\"1\" class=\"dataframe\">\n",
       "  <thead>\n",
       "    <tr style=\"text-align: right;\">\n",
       "      <th></th>\n",
       "      <th>Id</th>\n",
       "      <th>SleepDay</th>\n",
       "      <th>TotalSleepRecords</th>\n",
       "      <th>TotalMinutesAsleep</th>\n",
       "      <th>TotalTimeInBed</th>\n",
       "    </tr>\n",
       "  </thead>\n",
       "  <tbody>\n",
       "    <tr>\n",
       "      <th>0</th>\n",
       "      <td>1503960366</td>\n",
       "      <td>4/12/2016 0:00</td>\n",
       "      <td>1</td>\n",
       "      <td>327</td>\n",
       "      <td>346</td>\n",
       "    </tr>\n",
       "    <tr>\n",
       "      <th>1</th>\n",
       "      <td>1503960366</td>\n",
       "      <td>4/13/2016 0:00</td>\n",
       "      <td>2</td>\n",
       "      <td>384</td>\n",
       "      <td>407</td>\n",
       "    </tr>\n",
       "    <tr>\n",
       "      <th>2</th>\n",
       "      <td>1503960366</td>\n",
       "      <td>4/15/2016 0:00</td>\n",
       "      <td>1</td>\n",
       "      <td>412</td>\n",
       "      <td>442</td>\n",
       "    </tr>\n",
       "    <tr>\n",
       "      <th>3</th>\n",
       "      <td>1503960366</td>\n",
       "      <td>4/16/2016 0:00</td>\n",
       "      <td>2</td>\n",
       "      <td>340</td>\n",
       "      <td>367</td>\n",
       "    </tr>\n",
       "    <tr>\n",
       "      <th>4</th>\n",
       "      <td>1503960366</td>\n",
       "      <td>4/17/2016 0:00</td>\n",
       "      <td>1</td>\n",
       "      <td>700</td>\n",
       "      <td>712</td>\n",
       "    </tr>\n",
       "  </tbody>\n",
       "</table>\n",
       "</div>"
      ],
      "text/plain": [
       "           Id        SleepDay  TotalSleepRecords  TotalMinutesAsleep  \\\n",
       "0  1503960366  4/12/2016 0:00                  1                 327   \n",
       "1  1503960366  4/13/2016 0:00                  2                 384   \n",
       "2  1503960366  4/15/2016 0:00                  1                 412   \n",
       "3  1503960366  4/16/2016 0:00                  2                 340   \n",
       "4  1503960366  4/17/2016 0:00                  1                 700   \n",
       "\n",
       "   TotalTimeInBed  \n",
       "0             346  \n",
       "1             407  \n",
       "2             442  \n",
       "3             367  \n",
       "4             712  "
      ]
     },
     "execution_count": 2,
     "metadata": {},
     "output_type": "execute_result"
    }
   ],
   "source": [
    "#the same for sleep csv\n",
    "df_sleep = pd.read_csv('sleepDay_merged.csv')\n",
    "df_sleep.head()"
   ]
  },
  {
   "cell_type": "markdown",
   "metadata": {
    "azdata_cell_guid": "e172475a-c4ee-414a-8367-9965355dbba6"
   },
   "source": [
    "## Missing Data\n",
    "\n",
    "Test your dataset for missing data and handle it as needed. Make notes in the form of code comments as to your thought process."
   ]
  },
  {
   "cell_type": "code",
   "execution_count": 6,
   "metadata": {
    "azdata_cell_guid": "e1dc66ef-e471-4c27-92e7-ee878c106eba"
   },
   "outputs": [
    {
     "name": "stdout",
     "output_type": "stream",
     "text": [
      "<class 'pandas.core.frame.DataFrame'>\n",
      "RangeIndex: 940 entries, 0 to 939\n",
      "Data columns (total 15 columns):\n",
      " #   Column                    Non-Null Count  Dtype  \n",
      "---  ------                    --------------  -----  \n",
      " 0   Id                        940 non-null    int64  \n",
      " 1   ActivityDate              940 non-null    object \n",
      " 2   TotalSteps                940 non-null    int64  \n",
      " 3   TotalDistance             940 non-null    float64\n",
      " 4   TrackerDistance           940 non-null    float64\n",
      " 5   LoggedActivitiesDistance  940 non-null    float64\n",
      " 6   VeryActiveDistance        940 non-null    float64\n",
      " 7   ModeratelyActiveDistance  940 non-null    float64\n",
      " 8   LightActiveDistance       940 non-null    float64\n",
      " 9   SedentaryActiveDistance   940 non-null    float64\n",
      " 10  VeryActiveMinutes         940 non-null    int64  \n",
      " 11  FairlyActiveMinutes       940 non-null    int64  \n",
      " 12  LightlyActiveMinutes      940 non-null    int64  \n",
      " 13  SedentaryMinutes          940 non-null    int64  \n",
      " 14  Calories                  940 non-null    int64  \n",
      "dtypes: float64(7), int64(7), object(1)\n",
      "memory usage: 110.3+ KB\n"
     ]
    }
   ],
   "source": [
    "df_activity.info(verbose=True)\n",
    "#can see how many columns; identify data types; spot any missing values"
   ]
  },
  {
   "cell_type": "code",
   "execution_count": 7,
   "metadata": {},
   "outputs": [
    {
     "name": "stdout",
     "output_type": "stream",
     "text": [
      "<class 'pandas.core.frame.DataFrame'>\n",
      "RangeIndex: 413 entries, 0 to 412\n",
      "Data columns (total 5 columns):\n",
      " #   Column              Non-Null Count  Dtype \n",
      "---  ------              --------------  ----- \n",
      " 0   Id                  413 non-null    int64 \n",
      " 1   SleepDay            413 non-null    object\n",
      " 2   TotalSleepRecords   413 non-null    int64 \n",
      " 3   TotalMinutesAsleep  413 non-null    int64 \n",
      " 4   TotalTimeInBed      413 non-null    int64 \n",
      "dtypes: int64(4), object(1)\n",
      "memory usage: 16.3+ KB\n"
     ]
    }
   ],
   "source": [
    "df_sleep.info(verbose=True)\n",
    "#can see how many columns; identify data types; spot any missing values"
   ]
  },
  {
   "cell_type": "code",
   "execution_count": 8,
   "metadata": {},
   "outputs": [
    {
     "data": {
      "text/plain": [
       "Id                          0\n",
       "ActivityDate                0\n",
       "TotalSteps                  0\n",
       "TotalDistance               0\n",
       "TrackerDistance             0\n",
       "LoggedActivitiesDistance    0\n",
       "VeryActiveDistance          0\n",
       "ModeratelyActiveDistance    0\n",
       "LightActiveDistance         0\n",
       "SedentaryActiveDistance     0\n",
       "VeryActiveMinutes           0\n",
       "FairlyActiveMinutes         0\n",
       "LightlyActiveMinutes        0\n",
       "SedentaryMinutes            0\n",
       "Calories                    0\n",
       "dtype: int64"
      ]
     },
     "execution_count": 8,
     "metadata": {},
     "output_type": "execute_result"
    }
   ],
   "source": [
    "#another null check\n",
    "# obtain the # of missing data points per column\n",
    "missing_values_count = df_activity.isnull().sum()\n",
    "\n",
    "# look at the # of missing points in all columns\n",
    "missing_values_count[:]\n",
    "#no missing values"
   ]
  },
  {
   "cell_type": "code",
   "execution_count": 9,
   "metadata": {},
   "outputs": [
    {
     "data": {
      "text/plain": [
       "Id                    0\n",
       "SleepDay              0\n",
       "TotalSleepRecords     0\n",
       "TotalMinutesAsleep    0\n",
       "TotalTimeInBed        0\n",
       "dtype: int64"
      ]
     },
     "execution_count": 9,
     "metadata": {},
     "output_type": "execute_result"
    }
   ],
   "source": [
    "#another null check\n",
    "# obtain the # of missing data points per column\n",
    "missing_values_count = df_sleep.isnull().sum()\n",
    "\n",
    "# look at the # of missing points in all columns\n",
    "missing_values_count[:]\n",
    "#no missing values"
   ]
  },
  {
   "cell_type": "code",
   "execution_count": 12,
   "metadata": {},
   "outputs": [
    {
     "data": {
      "text/plain": [
       "<Axes: >"
      ]
     },
     "execution_count": 12,
     "metadata": {},
     "output_type": "execute_result"
    },
    {
     "data": {
      "image/png": "[encoded data removed]",
      "text/plain": [
       "<Figure size 1000x800 with 2 Axes>"
      ]
     },
     "metadata": {},
     "output_type": "display_data"
    }
   ],
   "source": [
    "#missing data heatmap...for fun\n",
    "\n",
    "plt.figure(figsize=(10,8))\n",
    "\n",
    "\n",
    "colours = ['#000099', '#ffff00'] # specify colours: yellow - missing. blue - not missing missing missing\n",
    "sb.heatmap(df_activity.isna(), cmap=sb.color_palette(colours))\n"
   ]
  },
  {
   "cell_type": "code",
   "execution_count": null,
   "metadata": {},
   "outputs": [],
   "source": [
    "#no missing values in either df; no actions needed"
   ]
  },
  {
   "cell_type": "markdown",
   "metadata": {
    "azdata_cell_guid": "1233f543-e9a0-4f78-96f5-d7536554102e"
   },
   "source": [
    "## Irregular Data\n",
    "\n",
    "Detect outliers in your dataset and handle them as needed. Use code comments to make notes about your thought process."
   ]
  },
  {
   "cell_type": "code",
   "execution_count": 14,
   "metadata": {
    "azdata_cell_guid": "efed50ae-16f0-471d-98e2-632553a74c12"
   },
   "outputs": [
    {
     "data": {
      "text/plain": [
       "Id                          -1.273031\n",
       "TotalSteps                   1.169111\n",
       "TotalDistance                3.113018\n",
       "TrackerDistance              3.203889\n",
       "LoggedActivitiesDistance    41.295941\n",
       "VeryActiveDistance          11.910951\n",
       "ModeratelyActiveDistance    10.125629\n",
       "LightActiveDistance         -0.180300\n",
       "SedentaryActiveDistance     99.127444\n",
       "VeryActiveMinutes            5.778070\n",
       "FairlyActiveMinutes          7.995731\n",
       "LightlyActiveMinutes        -0.360118\n",
       "SedentaryMinutes            -0.665950\n",
       "Calories                     0.625027\n",
       "dtype: float64"
      ]
     },
     "execution_count": 14,
     "metadata": {},
     "output_type": "execute_result"
    }
   ],
   "source": [
    "#look at kurtosis, stat measure of 'tailedness'. Higher result linked with more deviations, outliers, in the data.\n",
    "df_activity.kurt(numeric_only=True)[:]"
   ]
  },
  {
   "cell_type": "code",
   "execution_count": null,
   "metadata": {},
   "outputs": [],
   "source": [
    "#LoggedActivitiesDistance: This variable has a kurtosis of 41.296, indicating a high degree of tailedness.\n",
    "#SedentaryActiveDistance: This variable has a kurtosis of 99.127, which is even higher than the previous one."
   ]
  },
  {
   "cell_type": "code",
   "execution_count": 15,
   "metadata": {},
   "outputs": [
    {
     "data": {
      "text/plain": [
       "count    940.000000\n",
       "mean       0.108171\n",
       "std        0.619897\n",
       "min        0.000000\n",
       "25%        0.000000\n",
       "50%        0.000000\n",
       "75%        0.000000\n",
       "max        4.942142\n",
       "Name: LoggedActivitiesDistance, dtype: float64"
      ]
     },
     "execution_count": 15,
     "metadata": {},
     "output_type": "execute_result"
    }
   ],
   "source": [
    "#use descriptive statistics to further explore distribution of values\n",
    "df_activity['LoggedActivitiesDistance'].describe()\n",
    "#review data, it appears most are left zero, with just a few entries being the outliers from zero. \n",
    "#will limit use of this data in analysis"
   ]
  },
  {
   "cell_type": "code",
   "execution_count": 16,
   "metadata": {},
   "outputs": [
    {
     "data": {
      "text/plain": [
       "count    940.000000\n",
       "mean       0.001606\n",
       "std        0.007346\n",
       "min        0.000000\n",
       "25%        0.000000\n",
       "50%        0.000000\n",
       "75%        0.000000\n",
       "max        0.110000\n",
       "Name: SedentaryActiveDistance, dtype: float64"
      ]
     },
     "execution_count": 16,
     "metadata": {},
     "output_type": "execute_result"
    }
   ],
   "source": [
    "df_activity['SedentaryActiveDistance'].describe()\n",
    "#review data, it appears most are left zero, with just a few entries being the outliers from zero. \n",
    "#will limit use of this data in analysis"
   ]
  },
  {
   "cell_type": "code",
   "execution_count": 19,
   "metadata": {},
   "outputs": [
    {
     "data": {
      "text/plain": [
       "<Axes: >"
      ]
     },
     "execution_count": 19,
     "metadata": {},
     "output_type": "execute_result"
    },
    {
     "data": {
      "image/png": "[encoded data removed]",
      "text/plain": [
       "<Figure size 640x480 with 1 Axes>"
      ]
     },
     "metadata": {},
     "output_type": "display_data"
    }
   ],
   "source": [
    "df_activity.boxplot(column=['SedentaryActiveDistance'])\n",
    "#not many entries but outliers not as apparent"
   ]
  },
  {
   "cell_type": "code",
   "execution_count": 20,
   "metadata": {},
   "outputs": [
    {
     "data": {
      "text/plain": [
       "<Axes: >"
      ]
     },
     "execution_count": 20,
     "metadata": {},
     "output_type": "execute_result"
    },
    {
     "data": {
      "image/png": "[encoded data removed]",
      "text/plain": [
       "<Figure size 640x480 with 1 Axes>"
      ]
     },
     "metadata": {},
     "output_type": "display_data"
    }
   ],
   "source": [
    "df_activity.boxplot(column=['LoggedActivitiesDistance'])\n",
    "#more apparent outlier around 5"
   ]
  },
  {
   "cell_type": "code",
   "execution_count": 21,
   "metadata": {},
   "outputs": [
    {
     "data": {
      "text/plain": [
       "Id                   -0.758789\n",
       "TotalSleepRecords     7.968329\n",
       "TotalMinutesAsleep    1.616444\n",
       "TotalTimeInBed        3.498585\n",
       "dtype: float64"
      ]
     },
     "execution_count": 21,
     "metadata": {},
     "output_type": "execute_result"
    }
   ],
   "source": [
    "#repeat for df_sleep\n",
    "#look at kurtosis, stat measure of 'tailedness'. Higher result linked with more deviations, outliers, in the data.\n",
    "df_sleep.kurt(numeric_only=True)[:]\n",
    "#no high values; will not explore further"
   ]
  },
  {
   "cell_type": "markdown",
   "metadata": {
    "azdata_cell_guid": "6f5b8ee0-bab3-44bc-958a-67d1e4c0407f"
   },
   "source": [
    "## Unnecessary Data\n",
    "\n",
    "Look for the different types of unnecessary data in your dataset and address it as needed. Make sure to use code comments to illustrate your thought process."
   ]
  },
  {
   "cell_type": "code",
   "execution_count": 25,
   "metadata": {
    "azdata_cell_guid": "e788a239-2fbf-41de-9bd3-19e52e3b187c"
   },
   "outputs": [],
   "source": [
    "#look at columns with high percentage of the same value; specify those with over 99.9% same value\n",
    "num_rows = len(df_activity)\n",
    "\n",
    "for col in df_activity.columns:\n",
    "    cnts = df_activity[col].value_counts(dropna=False)\n",
    "    top_pct = (cnts/num_rows).iloc[0]\n",
    "\n",
    "    if top_pct > 0.999:\n",
    "        print('{0}: {1:.2f}%'.format(col, top_pct*100))\n",
    "        print(cnts)\n",
    "        print()\n",
    "        \n",
    "#no output; no columns fall into this category"
   ]
  },
  {
   "cell_type": "code",
   "execution_count": 26,
   "metadata": {},
   "outputs": [],
   "source": [
    "#repeat for df_sleep\n",
    "#look at columns with high percentage of the same value; specify those with over 99.9% same value\n",
    "num_rows = len(df_sleep)\n",
    "\n",
    "for col in df_sleep.columns:\n",
    "    cnts = df_sleep[col].value_counts(dropna=False)\n",
    "    top_pct = (cnts/num_rows).iloc[0]\n",
    "\n",
    "    if top_pct > 0.999:\n",
    "        print('{0}: {1:.2f}%'.format(col, top_pct*100))\n",
    "        print(cnts)\n",
    "        print()\n",
    "        \n",
    "#no output; no columns fall into this category"
   ]
  },
  {
   "cell_type": "code",
   "execution_count": 27,
   "metadata": {},
   "outputs": [
    {
     "data": {
      "text/plain": [
       "0"
      ]
     },
     "execution_count": 27,
     "metadata": {},
     "output_type": "execute_result"
    }
   ],
   "source": [
    "#check for duplicates\n",
    "duplicates=df_activity.duplicated()\n",
    "duplicates.sum()\n",
    "#no duplicate rows"
   ]
  },
  {
   "cell_type": "code",
   "execution_count": 28,
   "metadata": {},
   "outputs": [
    {
     "data": {
      "text/plain": [
       "3"
      ]
     },
     "execution_count": 28,
     "metadata": {},
     "output_type": "execute_result"
    }
   ],
   "source": [
    "duplicates=df_sleep.duplicated()\n",
    "duplicates.sum()\n",
    "#3 duplicated rows"
   ]
  },
  {
   "cell_type": "code",
   "execution_count": 29,
   "metadata": {},
   "outputs": [
    {
     "name": "stdout",
     "output_type": "stream",
     "text": [
      "             Id        SleepDay  TotalSleepRecords  TotalMinutesAsleep  \\\n",
      "161  4388161847   5/5/2016 0:00                  1                 471   \n",
      "223  4702921684   5/7/2016 0:00                  1                 520   \n",
      "380  8378563200  4/25/2016 0:00                  1                 388   \n",
      "\n",
      "     TotalTimeInBed  \n",
      "161             495  \n",
      "223             543  \n",
      "380             402  \n"
     ]
    }
   ],
   "source": [
    "duplicates = df_sleep[df_sleep.duplicated()]\n",
    "print(duplicates)\n",
    "#print duplicated rows; all unique ids and sleepdays; no action needed"
   ]
  },
  {
   "cell_type": "markdown",
   "metadata": {
    "azdata_cell_guid": "53e0cf94-c68a-4fa0-9849-9505a66bcce6"
   },
   "source": [
    "## Inconsistent Data\n",
    "\n",
    "Check for inconsistent data and address any that arises. As always, use code comments to illustrate your thought process."
   ]
  },
  {
   "cell_type": "code",
   "execution_count": 30,
   "metadata": {
    "azdata_cell_guid": "e9de6624-812a-43f8-8e20-93b4a49b091f"
   },
   "outputs": [
    {
     "name": "stdout",
     "output_type": "stream",
     "text": [
      "<class 'pandas.core.frame.DataFrame'>\n",
      "RangeIndex: 940 entries, 0 to 939\n",
      "Data columns (total 16 columns):\n",
      " #   Column                    Non-Null Count  Dtype         \n",
      "---  ------                    --------------  -----         \n",
      " 0   Id                        940 non-null    int64         \n",
      " 1   ActivityDate              940 non-null    datetime64[ns]\n",
      " 2   TotalSteps                940 non-null    int64         \n",
      " 3   TotalDistance             940 non-null    float64       \n",
      " 4   TrackerDistance           940 non-null    float64       \n",
      " 5   LoggedActivitiesDistance  940 non-null    float64       \n",
      " 6   VeryActiveDistance        940 non-null    float64       \n",
      " 7   ModeratelyActiveDistance  940 non-null    float64       \n",
      " 8   LightActiveDistance       940 non-null    float64       \n",
      " 9   SedentaryActiveDistance   940 non-null    float64       \n",
      " 10  VeryActiveMinutes         940 non-null    int64         \n",
      " 11  FairlyActiveMinutes       940 non-null    int64         \n",
      " 12  LightlyActiveMinutes      940 non-null    int64         \n",
      " 13  SedentaryMinutes          940 non-null    int64         \n",
      " 14  Calories                  940 non-null    int64         \n",
      " 15  Date                      940 non-null    object        \n",
      "dtypes: datetime64[ns](1), float64(7), int64(7), object(1)\n",
      "memory usage: 117.6+ KB\n"
     ]
    }
   ],
   "source": [
    "# change ActivityDate to Date type and add 'Date' for future inner join\n",
    "df_activity['ActivityDate'] = pd.to_datetime(df_activity['ActivityDate'])\n",
    "df_activity['Date'] = df_activity['ActivityDate'].dt.date\n",
    "df_activity.info()"
   ]
  },
  {
   "cell_type": "code",
   "execution_count": 33,
   "metadata": {},
   "outputs": [
    {
     "data": {
      "text/plain": [
       "<bound method DataFrame.info of              Id   SleepDay  TotalSleepRecords  TotalMinutesAsleep  \\\n",
       "0    1503960366 2016-04-12                  1                 327   \n",
       "1    1503960366 2016-04-13                  2                 384   \n",
       "2    1503960366 2016-04-15                  1                 412   \n",
       "3    1503960366 2016-04-16                  2                 340   \n",
       "4    1503960366 2016-04-17                  1                 700   \n",
       "..          ...        ...                ...                 ...   \n",
       "408  8792009665 2016-04-30                  1                 343   \n",
       "409  8792009665 2016-05-01                  1                 503   \n",
       "410  8792009665 2016-05-02                  1                 415   \n",
       "411  8792009665 2016-05-03                  1                 516   \n",
       "412  8792009665 2016-05-04                  1                 439   \n",
       "\n",
       "     TotalTimeInBed        Date      Time  \n",
       "0               346  2016-04-12  00:00:00  \n",
       "1               407  2016-04-13  00:00:00  \n",
       "2               442  2016-04-15  00:00:00  \n",
       "3               367  2016-04-16  00:00:00  \n",
       "4               712  2016-04-17  00:00:00  \n",
       "..              ...         ...       ...  \n",
       "408             360  2016-04-30  00:00:00  \n",
       "409             527  2016-05-01  00:00:00  \n",
       "410             423  2016-05-02  00:00:00  \n",
       "411             545  2016-05-03  00:00:00  \n",
       "412             463  2016-05-04  00:00:00  \n",
       "\n",
       "[413 rows x 7 columns]>"
      ]
     },
     "execution_count": 33,
     "metadata": {},
     "output_type": "execute_result"
    }
   ],
   "source": [
    "# convert date/time to date to help with any join on dates with df_sleep\n",
    "df_sleep['SleepDay'] = pd.to_datetime(df_sleep['SleepDay'], format='%m/%d/%Y %H:%M')\n",
    "df_sleep['Date'] = df_sleep['SleepDay'].dt.date\n",
    "df_sleep['Time'] = df_sleep['SleepDay'].dt.time\n",
    "df_sleep.info"
   ]
  },
  {
   "cell_type": "code",
   "execution_count": 34,
   "metadata": {},
   "outputs": [
    {
     "data": {
      "text/plain": [
       "0    1094\n",
       "1    1033\n",
       "2    1440\n",
       "3     998\n",
       "4    1040\n",
       "Name: Total_Mins, dtype: int64"
      ]
     },
     "execution_count": 34,
     "metadata": {},
     "output_type": "execute_result"
    }
   ],
   "source": [
    "#want to add some additional columns to aid in the analysis before join\n",
    "# create new column \"total_mins\" containing sum of total minutes.\n",
    "df_activity[\"Total_Mins\"] = df_activity[\"VeryActiveMinutes\"] + df_activity[\"FairlyActiveMinutes\"] + df_activity[\"LightlyActiveMinutes\"] + df_activity[\"SedentaryMinutes\"]\n",
    "df_activity[\"Total_Mins\"].head(5)"
   ]
  },
  {
   "cell_type": "code",
   "execution_count": 35,
   "metadata": {},
   "outputs": [
    {
     "data": {
      "text/plain": [
       "0    18.0\n",
       "1    17.0\n",
       "2    24.0\n",
       "3    17.0\n",
       "4    17.0\n",
       "Name: Total_Hours, dtype: float64"
      ]
     },
     "execution_count": 35,
     "metadata": {},
     "output_type": "execute_result"
    }
   ],
   "source": [
    "# create new column *total_hours* by converting to hour and round float to two decimal places\n",
    "df_activity[\"Total_Hours\"] = round(df_activity[\"Total_Mins\"] / 60)\n",
    "\n",
    "# print 1st 5 rows to confirm\n",
    "df_activity[\"Total_Hours\"].head(5)"
   ]
  },
  {
   "cell_type": "code",
   "execution_count": 36,
   "metadata": {},
   "outputs": [
    {
     "name": "stdout",
     "output_type": "stream",
     "text": [
      "<class 'pandas.core.frame.DataFrame'>\n",
      "Int64Index: 413 entries, 0 to 412\n",
      "Data columns (total 23 columns):\n",
      " #   Column                    Non-Null Count  Dtype         \n",
      "---  ------                    --------------  -----         \n",
      " 0   Id                        413 non-null    int64         \n",
      " 1   ActivityDate              413 non-null    datetime64[ns]\n",
      " 2   TotalSteps                413 non-null    int64         \n",
      " 3   TotalDistance             413 non-null    float64       \n",
      " 4   TrackerDistance           413 non-null    float64       \n",
      " 5   LoggedActivitiesDistance  413 non-null    float64       \n",
      " 6   VeryActiveDistance        413 non-null    float64       \n",
      " 7   ModeratelyActiveDistance  413 non-null    float64       \n",
      " 8   LightActiveDistance       413 non-null    float64       \n",
      " 9   SedentaryActiveDistance   413 non-null    float64       \n",
      " 10  VeryActiveMinutes         413 non-null    int64         \n",
      " 11  FairlyActiveMinutes       413 non-null    int64         \n",
      " 12  LightlyActiveMinutes      413 non-null    int64         \n",
      " 13  SedentaryMinutes          413 non-null    int64         \n",
      " 14  Calories                  413 non-null    int64         \n",
      " 15  Date                      413 non-null    object        \n",
      " 16  Total_Mins                413 non-null    int64         \n",
      " 17  Total_Hours               413 non-null    float64       \n",
      " 18  SleepDay                  413 non-null    datetime64[ns]\n",
      " 19  TotalSleepRecords         413 non-null    int64         \n",
      " 20  TotalMinutesAsleep        413 non-null    int64         \n",
      " 21  TotalTimeInBed            413 non-null    int64         \n",
      " 22  Time                      413 non-null    object        \n",
      "dtypes: datetime64[ns](2), float64(8), int64(11), object(2)\n",
      "memory usage: 77.4+ KB\n"
     ]
    }
   ],
   "source": [
    "# Inner join daily data for future analysis\n",
    "df_daily = pd.merge(df_activity, df_sleep, on = ['Id', 'Date'], how = 'inner')\n",
    "df_daily.info()"
   ]
  },
  {
   "cell_type": "code",
   "execution_count": 38,
   "metadata": {},
   "outputs": [],
   "source": [
    "#export cleaned dfs to csv\n",
    "df_activity.to_csv(\"df_activity_cleaned.csv\")"
   ]
  },
  {
   "cell_type": "code",
   "execution_count": 39,
   "metadata": {},
   "outputs": [],
   "source": [
    "df_activity.to_csv(\"df_sleep_cleaned.csv\")"
   ]
  },
  {
   "cell_type": "code",
   "execution_count": 40,
   "metadata": {},
   "outputs": [],
   "source": [
    "df_daily.to_csv(\"df_daily.csv\")"
   ]
  },
  {
   "cell_type": "markdown",
   "metadata": {
    "azdata_cell_guid": "dedc0bfe-17d0-40b2-914f-2ddb54f9ce0d"
   },
   "source": [
    "## Summarize Your Results\n",
    "\n",
    "Make note of your answers to the following questions.\n",
    "\n",
    "1. Did you find all four types of dirty data in your dataset? I did not find missing data or unnecessary data. However, I did identify some columns that might not be beneficial in the analysis with limited data.\n",
    "2. Did the process of cleaning your data give you new insights into your dataset? I wasn't aware of the outliers in a few columns and further exploration revealed mostly zeros with a handful of values above this. \n",
    "3. Is there anything you would like to make note of when it comes to manipulating the data and making visualizations? I have merged the two datasets to allow for analysis of how sleep might impact activity. However, from EDA, I know my sleep data is more limited than my activity data, which could limit my analysis. However, I think I have sufficient activity data to draw some conclusions on the users for the fitness tracker."
   ]
  },
  {
   "cell_type": "code",
   "execution_count": null,
   "metadata": {},
   "outputs": [],
   "source": []
  }
 ],
 "metadata": {
  "kernelspec": {
   "display_name": "Python 3 (ipykernel)",
   "language": "python",
   "name": "python3"
  },
  "language_info": {
   "codemirror_mode": {
    "name": "ipython",
    "version": 3
   },
   "file_extension": ".py",
   "mimetype": "text/x-python",
   "name": "python",
   "nbconvert_exporter": "python",
   "pygments_lexer": "ipython3",
   "version": "3.10.9"
  }
 },
 "nbformat": 4,
 "nbformat_minor": 2
}
